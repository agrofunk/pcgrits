{
 "cells": [
  {
   "cell_type": "code",
   "execution_count": 1,
   "metadata": {},
   "outputs": [],
   "source": [
    "import pandas as pd"
   ]
  },
  {
   "cell_type": "code",
   "execution_count": 4,
   "metadata": {},
   "outputs": [],
   "source": [
    "import sys\n",
    "\n",
    "# DEA tools\n",
    "sys.path.append('/home/jovyan/PlanetaryComputerExamples/CODE/grits/deafrica_tools/')\n",
    "from plotting import display_map, rgb, map_shapefile\n",
    "\n",
    "# grits\n",
    "sys.path.append('/home/jovyan/PlanetaryComputerExamples/CODE/grits/')\n",
    "from grits import humanbytes, get_field, get_lims, get_mms, query_l2a_items, xr_rasterize, calculate_indices\n"
   ]
  },
  {
   "cell_type": "code",
   "execution_count": 7,
   "metadata": {},
   "outputs": [
    {
     "name": "stdout",
     "output_type": "stream",
     "text": [
      "CPU times: user 16 ms, sys: 3.95 ms, total: 20 ms\n",
      "Wall time: 19.3 ms\n"
     ]
    }
   ],
   "source": [
    "\n",
    "\n",
    "%%time\n",
    "# the basics\n",
    "import rich.table\n",
    "\n",
    "# packages that have to be installed every runtime\n",
    "import subprocess\n",
    "import pkg_resources\n",
    "\n",
    "required = {'rasterstats','odc-ui'}\n",
    "installed = {pkg.key for pkg in pkg_resources.working_set}\n",
    "missing = required - installed\n",
    "\n",
    "if missing:\n",
    "    python = sys.executable\n",
    "    subprocess.check_call([python, '-m', 'pip', 'install', *missing], stdout=subprocess.DEVNULL)\n",
    "\n",
    "import warnings\n",
    "warnings.filterwarnings('ignore')\n",
    "import numpy as np\n",
    "import xarray as xr\n",
    "import matplotlib.pyplot as plt\n",
    "import pandas as pd\n",
    "import geopandas as gpd\n",
    "\n",
    "# for PC, stac, xarray\n",
    "import odc.stac\n",
    "import stackstac\n",
    "from xrspatial import zonal_stats"
   ]
  },
  {
   "cell_type": "markdown",
   "metadata": {},
   "source": [
    "### get farms"
   ]
  },
  {
   "cell_type": "code",
   "execution_count": 9,
   "metadata": {},
   "outputs": [],
   "source": [
    "path = '/home/jovyan/PlanetaryComputerExamples/vetorial/FAZENDAS/'"
   ]
  },
  {
   "cell_type": "code",
   "execution_count": 10,
   "metadata": {},
   "outputs": [
    {
     "name": "stdout",
     "output_type": "stream",
     "text": [
      "got bbox, lat_range, lon_range\n",
      "   parte                                           geometry\n",
      "0      1  MULTIPOLYGON (((-54.57278 -16.93966, -54.57686...\n",
      "1      2  MULTIPOLYGON (((-54.57825 -16.95894, -54.57660...\n",
      "2      3  MULTIPOLYGON (((-54.59494 -16.96052, -54.59700...\n",
      "3      4  MULTIPOLYGON (((-54.65092 -16.95305, -54.65196...\n"
     ]
    },
    {
     "data": {
      "text/plain": [
       "<Axes: >"
      ]
     },
     "execution_count": 10,
     "metadata": {},
     "output_type": "execute_result"
    },
    {
     "data": {
      "image/png": "[encoded data removed]",
      "text/plain": [
       "<Figure size 640x480 with 1 Axes>"
      ]
     },
     "metadata": {},
     "output_type": "display_data"
    }
   ],
   "source": [
    "field = gpd.read_file( path + 'fazenda_uniguiri.gpkg')\n",
    "bbox, lat_range, lon_range = get_lims(field)\n",
    "\n",
    "print(field.head())\n",
    "field.plot()"
   ]
  },
  {
   "cell_type": "code",
   "execution_count": 12,
   "metadata": {},
   "outputs": [
    {
     "name": "stdout",
     "output_type": "stream",
     "text": [
      "got bbox, lat_range, lon_range\n",
      "    PID  area_ha    R   ID      SR     Re   Fi     TID  \\\n",
      "0  R8_4      6.4  R8_    4  100000  80000    4  180004   \n",
      "1     F     10.6    F  NaN  100000  80000  901  180901   \n",
      "2  R8_5      6.9  R8_    5  100000  80000    5  180005   \n",
      "3     C      0.7    C  NaN  100000  80000  801  180801   \n",
      "4  R8_1      6.7  R8_    1  100000  80000    1  180001   \n",
      "\n",
      "                                            geometry  \n",
      "0  MULTIPOLYGON (((-54.57526 -16.95986, -54.57705...  \n",
      "1  MULTIPOLYGON (((-54.57224 -16.96252, -54.57131...  \n",
      "2  MULTIPOLYGON (((-54.57705 -16.96167, -54.57526...  \n",
      "3  MULTIPOLYGON (((-54.56787 -16.95268, -54.56744...  \n",
      "4  MULTIPOLYGON (((-54.57109 -16.95544, -54.57249...  \n"
     ]
    },
    {
     "data": {
      "application/vnd.jupyter.widget-view+json": {
       "model_id": "abf656770b5147809dfc637eb7481141",
       "version_major": 2,
       "version_minor": 0
      },
      "text/plain": [
       "Label(value='')"
      ]
     },
     "metadata": {},
     "output_type": "display_data"
    },
    {
     "data": {
      "application/vnd.jupyter.widget-view+json": {
       "model_id": "3655e4b774fd48a593ce6262e8c6942f",
       "version_major": 2,
       "version_minor": 0
      },
      "text/plain": [
       "Map(center=[-16.955265352726073, -54.57066140325033], controls=(ZoomControl(options=['position', 'zoom_in_text…"
      ]
     },
     "metadata": {},
     "output_type": "display_data"
    }
   ],
   "source": [
    "# para um grupo dentro de uma farm\n",
    "layer = 'piquetes_tid'\n",
    "column = 'Re'\n",
    "val = 80000\n",
    "\n",
    "field = gpd.read_file( path + 'fazenda_uniguiri.gpkg' , layer=layer)\n",
    "field = field[field[column] == val]\n",
    "\n",
    "bbox, lat_range, lon_range = get_lims(field)\n",
    "\n",
    "print(field.head())\n",
    "\n",
    "# plotting a partir do TID\n",
    "style={'opacity': 6, 'stroke': 2,'dashArray': '1', 'fillOpacity': 0.5}\n",
    "map_shapefile(field,'TID',cmap='Set1', **style )"
   ]
  },
  {
   "cell_type": "code",
   "execution_count": null,
   "metadata": {},
   "outputs": [],
   "source": []
  }
 ],
 "metadata": {
  "kernelspec": {
   "display_name": "Python 3 (ipykernel)",
   "language": "python",
   "name": "python3"
  },
  "language_info": {
   "codemirror_mode": {
    "name": "ipython",
    "version": 3
   },
   "file_extension": ".py",
   "mimetype": "text/x-python",
   "name": "python",
   "nbconvert_exporter": "python",
   "pygments_lexer": "ipython3",
   "version": "3.11.4"
  }
 },
 "nbformat": 4,
 "nbformat_minor": 2
}
