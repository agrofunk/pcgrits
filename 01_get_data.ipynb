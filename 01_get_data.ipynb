{
 "cells": [
  {
   "cell_type": "markdown",
   "id": "99d8125f-a39a-4e8c-b42f-e2409840099c",
   "metadata": {},
   "source": [
    "# Open farm and simple diagnostic\n",
    "\n",
    "## what to do(s)?\n",
    "1. Import as we need - dar os updates\n",
    "2. Abrir CAR-Estado\n",
    "3. Pegar a fazenda (pode ser pelo CAR)\n",
    "4. Pegar a bbox\n",
    "5. Carregar Imagens Sentinel 2 ou Landsat 8-9\n",
    "6. Aplicar mask da fazenda no xarray - (deafrica-sandbox-notebooks/Use_cases/Lake_baringo_grazing\n",
    "/Vegetation_phenology_1D.ipynb)"
   ]
  },
  {
   "cell_type": "markdown",
   "id": "4b630099-44f0-4c69-aa1d-6da999a975fc",
   "metadata": {},
   "source": [
    "## Load packages"
   ]
  },
  {
   "cell_type": "code",
   "execution_count": null,
   "id": "1d756662-d195-47e6-a499-495e6354905f",
   "metadata": {},
   "outputs": [],
   "source": [
    "import time\n",
    "start = time.time()"
   ]
  },
  {
   "cell_type": "code",
   "execution_count": null,
   "id": "fcf2cda7-211c-46f4-93b9-ebd3710fb1cc",
   "metadata": {
    "tags": []
   },
   "outputs": [],
   "source": [
    "%%time\n",
    "# from specific examples\n",
    "import matplotlib.pyplot as plt\n",
    "\n",
    "import rioxarray\n",
    "\n",
    "import numpy as np\n",
    "import xarray as xr\n",
    "import geopandas as gpd\n",
    "\n",
    "import rasterio.features\n",
    "import stackstac\n",
    "import pystac_client\n",
    "import planetary_computer\n",
    "\n",
    "import xrspatial.multispectral as ms\n",
    "\n"
   ]
  },
  {
   "cell_type": "code",
   "execution_count": null,
   "id": "97f00898-3127-4faa-8493-d9842ffb82c3",
   "metadata": {
    "tags": []
   },
   "outputs": [],
   "source": [
    "import subprocess\n",
    "import pkg_resources\n",
    "import sys\n",
    "\n",
    "required = {'rasterstats','odc-ui'}\n",
    "installed = {pkg.key for pkg in pkg_resources.working_set}\n",
    "missing = required - installed\n",
    "\n",
    "if missing:\n",
    "    python = sys.executable\n",
    "    subprocess.check_call([python, '-m', 'pip', 'install', *missing], stdout=subprocess.DEVNULL)"
   ]
  },
  {
   "cell_type": "code",
   "execution_count": null,
   "id": "9ee91b83-8d1f-426a-a3d8-7ffc1cb76b39",
   "metadata": {
    "tags": []
   },
   "outputs": [],
   "source": [
    "%%time\n",
    "# From DEA\n",
    "import sys\n",
    "sys.path.append('/home/jovyan/PlanetaryComputerExamples/grasspace/deafrica-sandbox-notebooks/Tools/deafrica_tools/')\n",
    "\n",
    "from plotting import display_map, rgb\n",
    "from spatial import xr_rasterize\n",
    "from bandindices import calculate_indices\n"
   ]
  },
  {
   "cell_type": "markdown",
   "id": "a72ad9f2-7042-4b5c-bfc2-c89994cf7977",
   "metadata": {},
   "source": [
    "## Área de análise\n",
    "É aqui que definimos o que será analisado. Ainda está em fase bem inicial."
   ]
  },
  {
   "cell_type": "code",
   "execution_count": null,
   "id": "eca16659-0b20-41e8-924b-4af690242157",
   "metadata": {
    "tags": []
   },
   "outputs": [],
   "source": [
    "path = '/home/jovyan/PlanetaryComputerExamples/'\n",
    "\n",
    "# se pq == True, vamos por piquetes (ai especifica lah mesmo)\n",
    "pq = True\n",
    "tl = False\n",
    "lm = False\n",
    "\n",
    "datetime = \"2021-08-01/2023-08-24\"\n",
    "pace = 4"
   ]
  },
  {
   "cell_type": "code",
   "execution_count": null,
   "id": "6008c4b4-51ee-4d73-b828-3a68fb70a665",
   "metadata": {
    "tags": []
   },
   "outputs": [],
   "source": [
    "if pq: \n",
    "    # piquetes\n",
    "    piquetes = gpd.read_file( path + 'vetorial/FAZENDAS/fazenda_uniguiri.gpkg', layer = 'piquetes')\n",
    "\n",
    "    #filtering piquetes?\n",
    "    R = 'R8_'\n",
    "    piquetes = piquetes[piquetes['R'] == R]\n",
    "\n",
    "    piquetes.plot(column = 'R', legend = True, figsize=(10,8));\n",
    "    piquetes.head();\n",
    "    LIM = piquetes;"
   ]
  },
  {
   "cell_type": "code",
   "execution_count": null,
   "id": "f14481c1-f337-4e12-a185-c5d776eadbd4",
   "metadata": {
    "tags": []
   },
   "outputs": [],
   "source": [
    "if tl: #tl\n",
    "    # talhoes\n",
    "    talhoes = gpd.read_file( path + 'vetorial/FAZENDAS/iacanga_22_23.gpkg', layer = 'talhoes')\n",
    "\n",
    "    #filtering talhoes?\n",
    "    R = '032 APARECIDA' \n",
    "    talhoes = talhoes[talhoes['LAYER'] == R]\n",
    "\n",
    "    talhoes.plot(column = 'LAYER', legend = True, figsize=(10,8));\n",
    "    talhoes.head();\n",
    "    LIM = talhoes;"
   ]
  },
  {
   "cell_type": "code",
   "execution_count": null,
   "id": "aa53caa1-b485-410b-b6b6-467f3a8f5cbe",
   "metadata": {
    "tags": []
   },
   "outputs": [],
   "source": [
    "# Limites\n",
    "if lm:\n",
    "    limites = gpd.read_file( path + 'vetorial/FAZENDAS/fazenda_uniguiri.gpkg', layer = 'limites' )\n",
    "    limites.plot('parte');\n",
    "    limites.head();\n",
    "    limites = limites[limites['parte'].isin([1,2,3])];\n",
    "        \n",
    "    LIM = limites\n",
    "    print('using limites bounding box')\n",
    "    \n",
    "else:\n",
    "    print('using piquetes or talhoes bouding box')"
   ]
  },
  {
   "cell_type": "code",
   "execution_count": null,
   "id": "9eca99f6-bd5f-4428-8a12-6c36ce33d49d",
   "metadata": {
    "tags": []
   },
   "outputs": [],
   "source": [
    "def get_lims(gdf):\n",
    "    limites = gdf\n",
    "    bbox = (limites.bounds.minx.min(),\n",
    "            limites.bounds.miny.min(),\n",
    "            limites.bounds.maxx.max(),\n",
    "            limites.bounds.maxy.max()\n",
    "           )\n",
    "\n",
    "    lat_range = (bbox[1],bbox[3])\n",
    "    lon_range = (bbox[0], bbox[2])\n",
    "    print('got bbox, lat_range, lon_range')\n",
    "    return bbox, lat_range, lon_range\n",
    "\n",
    "# using limites OR piquetes\n",
    "\n",
    "bbox, lat_range, lon_range = get_lims(LIM)\n",
    "bbox, lat_range, lon_range"
   ]
  },
  {
   "cell_type": "code",
   "execution_count": null,
   "id": "96e3061c-49a9-4523-b92a-523327bc5fc7",
   "metadata": {
    "tags": []
   },
   "outputs": [],
   "source": [
    "# Display from lat and lon range\n",
    "display_map(x=lon_range, y=lat_range, zoom_bias = 0.3)"
   ]
  },
  {
   "cell_type": "markdown",
   "id": "20d560df-43ee-4060-904a-084141e3b2f1",
   "metadata": {},
   "source": [
    "## Get images"
   ]
  },
  {
   "cell_type": "markdown",
   "id": "4660a60b-bfb1-4e58-885b-7d33bdda3749",
   "metadata": {
    "tags": []
   },
   "source": [
    "### About indices \n",
    "''index : str or list of strs\n",
    "    A string giving the name of the index to calculate or a list of\n",
    "    strings giving the names of the indices to calculate:\n",
    "    \n",
    "- ``'ASI'``  (Artificial Surface Index, Yongquan Zhao & Zhe Zhu 2022)\n",
    "- ``'AWEI_ns'`` (Automated Water Extraction Index, no shadows, Feyisa 2014)\n",
    "- ``'AWEI_sh'`` (Automated Water Extraction Index, shadows, Feyisa 2014)\n",
    "- ``'BAEI'`` (Built-Up Area Extraction Index, Bouzekri et al. 2015)\n",
    "- ``'BAI'`` (Burn Area Index, Martin 1998)\n",
    "- ``'BSI'`` (Bare Soil Index, Rikimaru et al. 2002)\n",
    "- ``'BUI'`` (Built-Up Index, He et al. 2010)\n",
    "- ``'CMR'`` (Clay Minerals Ratio, Drury 1987)\n",
    "- ``'ENDISI'`` (Enhanced Normalised Difference for Impervious Surfaces Index, Chen et al. 2019)\n",
    "- ``'EVI'`` (Enhanced Vegetation Index, Huete 2002)\n",
    "- ``'FMR'`` (Ferrous Minerals Ratio, Segal 1982)\n",
    "- ``'IOR'`` (Iron Oxide Ratio, Segal 1982)\n",
    "- ``'LAI'`` (Leaf Area Index, Boegh 2002)\n",
    "- ``'MBI'`` (Modified Bare Soil Index, Nguyen et al. 2021)\n",
    "- ``'MNDWI'`` (Modified Normalised Difference Water Index, Xu 1996)\n",
    "- ``'MSAVI'`` (Modified Soil Adjusted Vegetation Index, Qi et al. 1994)\n",
    "- ``'NBI'`` (New Built-Up Index, Jieli et al. 2010)\n",
    "- ``'NBR'`` (Normalised Burn Ratio, Lopez Garcia 1991)\n",
    "- ``'NDBI'`` (Normalised Difference Built-Up Index, Zha 2003)\n",
    "- ``'NDCI'`` (Normalised Difference Chlorophyll Index, Mishra & Mishra, 2012)\n",
    "- ``'NDMI'`` (Normalised Difference Moisture Index, Gao 1996)\n",
    "- ``'NDSI'`` (Normalised Difference Snow Index, Hall 1995)\n",
    "- ``'NDTI'`` (Normalised Difference Turbidity Index, Lacaux et al. 2007)\n",
    "- ``'NDVI'`` (Normalised Difference Vegetation Index, Rouse 1973)\n",
    "- ``'NDWI'`` (Normalised Difference Water Index, McFeeters 1996)\n",
    "- ``'SAVI'`` (Soil Adjusted Vegetation Index, Huete 1988)\n",
    "- ``'TCB'`` (Tasseled Cap Brightness, Crist 1985)\n",
    "- ``'TCG'`` (Tasseled Cap Greeness, Crist 1985)\n",
    "- ``'TCW'`` (Tasseled Cap Wetness, Crist 1985)\n",
    "- ``'WI'`` (Water Index, Fisher 2016)"
   ]
  },
  {
   "cell_type": "code",
   "execution_count": null,
   "id": "1e979308-2c15-421c-9c9e-16525f4d48f3",
   "metadata": {
    "tags": []
   },
   "outputs": [],
   "source": [
    "%%time\n",
    "# create stac client\n",
    "stac = pystac_client.Client.open(\n",
    "    \"https://planetarycomputer.microsoft.com/api/stac/v1\",\n",
    "    modifier=planetary_computer.sign_inplace,\n",
    ")"
   ]
  },
  {
   "cell_type": "markdown",
   "id": "24ab6382-40f5-49b2-96de-fb418f84a041",
   "metadata": {},
   "source": [
    "### get Sentinel 2 L2A Data\n",
    "colocar as especificidades aqui"
   ]
  },
  {
   "cell_type": "code",
   "execution_count": null,
   "id": "2489d987-1fe6-4a6a-85c9-3fc6b109057d",
   "metadata": {},
   "outputs": [],
   "source": [
    "%%time\n",
    "# SENTINEL 2\n",
    "# Get image cube\n",
    "search = stac.search(\n",
    "    bbox=bbox,\n",
    "    datetime=datetime, #partir de 2016 para tratar os dados ruins\n",
    "    collections=[\"sentinel-2-l2a\"],\n",
    "    query={\"eo:cloud_cover\": {\"lt\": 40}},\n",
    ")\n",
    "\n",
    "items = search.item_collection()\n",
    "print(len(items));\n",
    "print(items[0].assets.keys());"
   ]
  },
  {
   "cell_type": "code",
   "execution_count": null,
   "id": "1e8448dd-02e7-4ceb-98be-0fa9f5be7d27",
   "metadata": {
    "tags": []
   },
   "outputs": [],
   "source": [
    "#items[0]"
   ]
  },
  {
   "cell_type": "code",
   "execution_count": null,
   "id": "b992c4a3-9d88-4b21-8bc4-b9f14d9837cc",
   "metadata": {
    "tags": []
   },
   "outputs": [],
   "source": [
    "# For Sentinel 2\n",
    "data = (\n",
    "    stackstac.stack(\n",
    "        items,\n",
    "        assets = [\"B08\", \"B04\", \"B03\",\"B02\"],    #[\"B12\",\"B11\",\"B08\",\"B08\",\"B05\",\"B04\",\"B03\",\"B02\"],  \n",
    "        chunksize=1024,\n",
    "        resolution=0.0001, #0.0001\n",
    "        epsg=4326,\n",
    "        bounds=bbox,\n",
    "        properties = True,\n",
    "        fill_value = np.nan,\n",
    "    )\n",
    "    .where(lambda x: x > 0, other=np.nan)  # sentinel-2 uses 0 as nodata\n",
    "    .assign_coords(band=lambda x: x.common_name.rename(\"band\"))  # use common names\n",
    ")\n",
    "\n",
    "# fix xy names\n",
    "data = data.rename({'x': 'longitude','y': 'latitude'})\n",
    "\n",
    "data"
   ]
  },
  {
   "cell_type": "markdown",
   "id": "8598e379-5e35-451a-babe-0945d649871a",
   "metadata": {},
   "source": [
    "### Mask dataset com fazenda"
   ]
  },
  {
   "cell_type": "code",
   "execution_count": null,
   "id": "11691b05-4c8f-49ca-8e46-f17c1bd3593b",
   "metadata": {
    "tags": []
   },
   "outputs": [],
   "source": [
    "#create mask versao dataarray\n",
    "mask = xr_rasterize(LIM,data,\n",
    "                    # x_dim='x',\n",
    "                    # y_dim='y',\n",
    "                   export_tiff='masked2.tiff') #,x_dim='longitude',y_dim='latitude'\n",
    "\n",
    "# #mask data\n",
    "data = data.where(mask)\n",
    "\n",
    "# #convert to float 32 to conserve memory\n",
    "data= data.astype(np.float32)"
   ]
  },
  {
   "cell_type": "code",
   "execution_count": 1,
   "id": "f5a9881e-4224-4aa3-bebb-fa7c04679fe9",
   "metadata": {
    "tags": []
   },
   "outputs": [
    {
     "ename": "NameError",
     "evalue": "name 'data' is not defined",
     "output_type": "error",
     "traceback": [
      "\u001b[0;31m---------------------------------------------------------------------------\u001b[0m",
      "\u001b[0;31mNameError\u001b[0m                                 Traceback (most recent call last)",
      "Cell \u001b[0;32mIn[1], line 2\u001b[0m\n\u001b[1;32m      1\u001b[0m \u001b[38;5;66;03m# calcula indices\u001b[39;00m\n\u001b[0;32m----> 2\u001b[0m ds_ \u001b[38;5;241m=\u001b[39m \u001b[43mdata\u001b[49m\u001b[38;5;241m.\u001b[39mto_dataset(dim\u001b[38;5;241m=\u001b[39m\u001b[38;5;124m'\u001b[39m\u001b[38;5;124mband\u001b[39m\u001b[38;5;124m'\u001b[39m)\n\u001b[1;32m      4\u001b[0m \u001b[38;5;66;03m# os indices\u001b[39;00m\n\u001b[1;32m      5\u001b[0m indices \u001b[38;5;241m=\u001b[39m [\u001b[38;5;124m'\u001b[39m\u001b[38;5;124mLAI\u001b[39m\u001b[38;5;124m'\u001b[39m, \u001b[38;5;124m'\u001b[39m\u001b[38;5;124mNDVI\u001b[39m\u001b[38;5;124m'\u001b[39m, \u001b[38;5;124m\"\u001b[39m\u001b[38;5;124mMSAVI\u001b[39m\u001b[38;5;124m\"\u001b[39m, \u001b[38;5;124m\"\u001b[39m\u001b[38;5;124mSAVI\u001b[39m\u001b[38;5;124m\"\u001b[39m,\u001b[38;5;124m\"\u001b[39m\u001b[38;5;124mEVI\u001b[39m\u001b[38;5;124m\"\u001b[39m]\n",
      "\u001b[0;31mNameError\u001b[0m: name 'data' is not defined"
     ]
    }
   ],
   "source": [
    "# calcula indices\n",
    "ds_ = data.to_dataset(dim='band')\n",
    "\n",
    "# os indices\n",
    "indices = ['LAI', 'NDVI', \"MSAVI\", \"SAVI\",\"EVI\"]\n",
    "ds = calculate_indices(ds_, \n",
    "                       index= indices, \n",
    "                       satellite_mission='s2', \n",
    "                       drop=True);"
   ]
  },
  {
   "cell_type": "code",
   "execution_count": null,
   "id": "5fadab57-8470-4dc9-b3f2-5f61899bf1dc",
   "metadata": {
    "tags": []
   },
   "outputs": [],
   "source": [
    "%%time\n",
    "ds.compute();"
   ]
  },
  {
   "cell_type": "markdown",
   "id": "46dfaf8a-603d-4f53-b066-bd2f533a145a",
   "metadata": {
    "tags": []
   },
   "source": [
    "#### Visualizing RGB images sequence"
   ]
  },
  {
   "cell_type": "code",
   "execution_count": null,
   "id": "f714e548-9e49-46e3-806c-e0607346567d",
   "metadata": {
    "tags": []
   },
   "outputs": [],
   "source": [
    "%%time\n",
    "rgb(ds_, col='time', size=6, col_wrap=3)"
   ]
  },
  {
   "cell_type": "markdown",
   "id": "003b8395-e1a2-4c14-8389-12d7765d238d",
   "metadata": {
    "tags": []
   },
   "source": [
    "#### Plot Indices for specific dates"
   ]
  },
  {
   "cell_type": "code",
   "execution_count": null,
   "id": "8150562e-6e06-4478-b6eb-880495d28d6a",
   "metadata": {
    "tags": []
   },
   "outputs": [],
   "source": [
    "%%time\n",
    "# get vmin and vmax for each variable considering the entire time-series\n",
    "# that makes the color comparison fair!\n",
    "mms = {}\n",
    "keys = indices\n",
    "for i in keys:\n",
    "    line = np.nanquantile(ds[i].values,[0.01,0.99])\n",
    "    mms[i] = line\n",
    "print(mms)"
   ]
  },
  {
   "cell_type": "code",
   "execution_count": null,
   "id": "08e98778-1f70-48a8-98c6-ac0c4a8047bc",
   "metadata": {
    "tags": []
   },
   "outputs": [],
   "source": [
    "%%time\n",
    "\n",
    "for t in range(0,len(ds.time),pace):\n",
    "    \n",
    "    date = str(ds.time[t].values).split('T')[0]\n",
    "    for i in indices[0:1]:\n",
    "        ds[i].isel(time=[t]).plot(cmap = 'YlGn', vmin = mms[i][0], vmax = mms[i][1], figsize=(8,5));\n",
    "        plt.title(f'{i} for {date}');\n",
    "        plt.grid();\n",
    "        plt.show();\n",
    "        plt.close();\n",
    "\n",
    "        flat = ds[i].isel(time=[t]).values.flatten()\n",
    "        flat = np.where((flat> 3.5) | (flat<0), np.nan, flat)\n",
    "        plt.figure(figsize=(6,2))\n",
    "        plt.hist(flat,20);\n",
    "        plt.title(f'{i} for {date}, sum = {np.nansum(flat):.0f} quantiles .05, .5, .95 = {np.round(np.nanquantile(flat,[.05,.5,.95]),1)}');\n",
    "        plt.show();\n",
    "        plt.close()\n",
    "        print('\\n');"
   ]
  },
  {
   "cell_type": "code",
   "execution_count": null,
   "id": "e32aa93b-8e96-42ed-9c5a-c998ee143d0e",
   "metadata": {
    "tags": []
   },
   "outputs": [],
   "source": [
    "end = time.time()\n",
    "print(f'{(end - start):.0f} seconds')"
   ]
  },
  {
   "cell_type": "markdown",
   "id": "92b0a6c9-eae7-47cc-9903-da86be14bd21",
   "metadata": {},
   "source": [
    "### Monthly z-scores\n"
   ]
  },
  {
   "cell_type": "code",
   "execution_count": null,
   "id": "1acb327f-0e99-47d2-81dd-96bd61a94258",
   "metadata": {
    "tags": []
   },
   "outputs": [],
   "source": [
    "i = 'LAI'\n",
    "\n",
    "dsmean = ds[i].chunk(dict(time=-1)).interpolate_na(dim='time').groupby('time.month').mean()\n",
    "dsstd = ds[i].chunk(dict(time=-1)).interpolate_na(dim='time').groupby('time.month').std()"
   ]
  },
  {
   "cell_type": "code",
   "execution_count": null,
   "id": "13b8627a-f197-4a6f-9b81-0b91924987cd",
   "metadata": {
    "tags": []
   },
   "outputs": [],
   "source": [
    "%%time\n",
    "\n",
    "mm_mean = np.nanquantile(dsmean.values,[0.01,0.99])\n",
    "\n",
    "mm_std = np.nanquantile(dsstd.values,[0.01,0.99])\n",
    "mm_std\n"
   ]
  },
  {
   "cell_type": "code",
   "execution_count": null,
   "id": "147fb77b-a169-40ba-8633-adc15c27dd86",
   "metadata": {
    "tags": []
   },
   "outputs": [],
   "source": [
    "# Monthly means of i\n",
    "dsmean.plot(col='month', cmap = 'RdBu', \n",
    "            vmin = mm_mean[0], vmax = mm_mean[1], col_wrap=3)"
   ]
  },
  {
   "cell_type": "code",
   "execution_count": null,
   "id": "b5b585c5-84f3-4b15-b57c-7c4ff1073cfa",
   "metadata": {
    "tags": []
   },
   "outputs": [],
   "source": [
    "# Monthly stds of i\n",
    "# the redder, the more deviant\n",
    "dsstd.plot(col='month', cmap = 'RdBu_r', \n",
    "            vmin = mm_std[0], vmax = mm_std[1], col_wrap=3)"
   ]
  },
  {
   "cell_type": "markdown",
   "id": "50513949-1b12-4de2-8b25-0451b250c9ae",
   "metadata": {
    "tags": []
   },
   "source": [
    "### TO-DO -> CALCULATE THE FUCKING Z-SCORE\n",
    "NAO ENTENDI A PARADA DOS MES , mas eu vou chegar lah"
   ]
  },
  {
   "cell_type": "code",
   "execution_count": null,
   "id": "3bad1f7c-a4c2-4d4b-ac01-80406590d035",
   "metadata": {
    "tags": []
   },
   "outputs": [],
   "source": [
    "dsmonth = ds['LAI'].chunk(dict(time=-1)).interpolate_na(dim='time').resample(time='M').mean(dim='time')"
   ]
  },
  {
   "cell_type": "raw",
   "id": "6477a68b-3373-42b0-849c-f3791454144f",
   "metadata": {
    "tags": []
   },
   "source": [
    "%%time\n",
    "anom = (dsmonth - dsmean)"
   ]
  },
  {
   "cell_type": "code",
   "execution_count": null,
   "id": "921423cd-7142-4a2c-b95b-4f0026df954e",
   "metadata": {
    "tags": []
   },
   "outputs": [],
   "source": [
    "end = time.time()\n",
    "print(f'{(end - start):.0f} seconds')"
   ]
  }
 ],
 "metadata": {
  "kernelspec": {
   "display_name": "Python 3 (ipykernel)",
   "language": "python",
   "name": "python3"
  },
  "language_info": {
   "codemirror_mode": {
    "name": "ipython",
    "version": 3
   },
   "file_extension": ".py",
   "mimetype": "text/x-python",
   "name": "python",
   "nbconvert_exporter": "python",
   "pygments_lexer": "ipython3",
   "version": "3.11.4"
  },
  "toc-showtags": false
 },
 "nbformat": 4,
 "nbformat_minor": 5
}
